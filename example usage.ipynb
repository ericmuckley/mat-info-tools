{
 "cells": [
  {
   "cell_type": "markdown",
   "metadata": {},
   "source": [
    "# Using mat-info-tools"
   ]
  },
  {
   "cell_type": "code",
   "execution_count": 2,
   "metadata": {},
   "outputs": [],
   "source": [
    "import sys\n",
    "import pandas as pd\n",
    "import matplotlib.pyplot as plt\n",
    "\n",
    "# set directory\n",
    "tools_directory = '/Users/emuckley/Documents/GitHub/mat-info-tools'\n",
    "\n",
    "sys.path.append(tools_directory)\n",
    "import mat_info_tools\n"
   ]
  },
  {
   "cell_type": "markdown",
   "metadata": {},
   "source": [
    "## Featurize some chemical formulas"
   ]
  },
  {
   "cell_type": "code",
   "execution_count": 2,
   "metadata": {},
   "outputs": [
    {
     "name": "stdout",
     "output_type": "stream",
     "text": [
      "Featurizing dataset...\n"
     ]
    },
    {
     "data": {
      "application/vnd.jupyter.widget-view+json": {
       "model_id": "5eacf80727754dfda80800486fe6fe28",
       "version_major": 2,
       "version_minor": 0
      },
      "text/plain": [
       "HBox(children=(FloatProgress(value=0.0, description='StrToComposition', max=5.0, style=ProgressStyle(descripti…"
      ]
     },
     "metadata": {},
     "output_type": "display_data"
    },
    {
     "name": "stdout",
     "output_type": "stream",
     "text": [
      "\n"
     ]
    },
    {
     "data": {
      "application/vnd.jupyter.widget-view+json": {
       "model_id": "6bb29fb4205848da91273bb268326dab",
       "version_major": 2,
       "version_minor": 0
      },
      "text/plain": [
       "HBox(children=(FloatProgress(value=0.0, description='CompositionToOxidComposition', max=5.0, style=ProgressSty…"
      ]
     },
     "metadata": {},
     "output_type": "display_data"
    },
    {
     "name": "stdout",
     "output_type": "stream",
     "text": [
      "\n"
     ]
    },
    {
     "data": {
      "application/vnd.jupyter.widget-view+json": {
       "model_id": "a2e110c73bc24cc38a7cc137fa6bc02c",
       "version_major": 2,
       "version_minor": 0
      },
      "text/plain": [
       "HBox(children=(FloatProgress(value=0.0, description='ElementProperty', max=5.0, style=ProgressStyle(descriptio…"
      ]
     },
     "metadata": {},
     "output_type": "display_data"
    },
    {
     "name": "stdout",
     "output_type": "stream",
     "text": [
      "\n"
     ]
    },
    {
     "data": {
      "application/vnd.jupyter.widget-view+json": {
       "model_id": "8b6f1b141f2d4663b54ec84fd871447d",
       "version_major": 2,
       "version_minor": 0
      },
      "text/plain": [
       "HBox(children=(FloatProgress(value=0.0, description='Meredig', max=5.0, style=ProgressStyle(description_width=…"
      ]
     },
     "metadata": {},
     "output_type": "display_data"
    },
    {
     "name": "stdout",
     "output_type": "stream",
     "text": [
      "\n"
     ]
    },
    {
     "data": {
      "application/vnd.jupyter.widget-view+json": {
       "model_id": "889895288b03464380619ec7a8f46dbb",
       "version_major": 2,
       "version_minor": 0
      },
      "text/plain": [
       "HBox(children=(FloatProgress(value=0.0, description='BandCenter', max=5.0, style=ProgressStyle(description_wid…"
      ]
     },
     "metadata": {},
     "output_type": "display_data"
    },
    {
     "name": "stdout",
     "output_type": "stream",
     "text": [
      "\n"
     ]
    },
    {
     "data": {
      "application/vnd.jupyter.widget-view+json": {
       "model_id": "b252323680674bdb8a615fde3bc8c3f0",
       "version_major": 2,
       "version_minor": 0
      },
      "text/plain": [
       "HBox(children=(FloatProgress(value=0.0, description='IonProperty', max=5.0, style=ProgressStyle(description_wi…"
      ]
     },
     "metadata": {},
     "output_type": "display_data"
    },
    {
     "name": "stdout",
     "output_type": "stream",
     "text": [
      "\n"
     ]
    },
    {
     "data": {
      "application/vnd.jupyter.widget-view+json": {
       "model_id": "c9a5c155b9c14e75b06d87e4b73a0288",
       "version_major": 2,
       "version_minor": 0
      },
      "text/plain": [
       "HBox(children=(FloatProgress(value=0.0, description='Stoichiometry', max=5.0, style=ProgressStyle(description_…"
      ]
     },
     "metadata": {},
     "output_type": "display_data"
    },
    {
     "name": "stdout",
     "output_type": "stream",
     "text": [
      "\n"
     ]
    },
    {
     "data": {
      "application/vnd.jupyter.widget-view+json": {
       "model_id": "96aba8b1d7e64e7491304a20bdad7d9d",
       "version_major": 2,
       "version_minor": 0
      },
      "text/plain": [
       "HBox(children=(FloatProgress(value=0.0, description='AtomicOrbitals', max=5.0, style=ProgressStyle(description…"
      ]
     },
     "metadata": {},
     "output_type": "display_data"
    },
    {
     "name": "stdout",
     "output_type": "stream",
     "text": [
      "\n"
     ]
    },
    {
     "data": {
      "application/vnd.jupyter.widget-view+json": {
       "model_id": "ccfe777e37174491a0fb0bab83e9506b",
       "version_major": 2,
       "version_minor": 0
      },
      "text/plain": [
       "HBox(children=(FloatProgress(value=0.0, description='TMetalFraction', max=5.0, style=ProgressStyle(description…"
      ]
     },
     "metadata": {},
     "output_type": "display_data"
    },
    {
     "name": "stdout",
     "output_type": "stream",
     "text": [
      "\n"
     ]
    },
    {
     "data": {
      "application/vnd.jupyter.widget-view+json": {
       "model_id": "f1aa64b6c26745f6a54e26c0f3f6a1ac",
       "version_major": 2,
       "version_minor": 0
      },
      "text/plain": [
       "HBox(children=(FloatProgress(value=0.0, description='CohesiveEnergy', max=5.0, style=ProgressStyle(description…"
      ]
     },
     "metadata": {},
     "output_type": "display_data"
    },
    {
     "name": "stdout",
     "output_type": "stream",
     "text": [
      "\n"
     ]
    },
    {
     "data": {
      "application/vnd.jupyter.widget-view+json": {
       "model_id": "a1ef93d3657b4a978921b5c7950d5a7f",
       "version_major": 2,
       "version_minor": 0
      },
      "text/plain": [
       "HBox(children=(FloatProgress(value=0.0, description='ElementFraction', max=5.0, style=ProgressStyle(descriptio…"
      ]
     },
     "metadata": {},
     "output_type": "display_data"
    },
    {
     "name": "stdout",
     "output_type": "stream",
     "text": [
      "\n"
     ]
    },
    {
     "data": {
      "application/vnd.jupyter.widget-view+json": {
       "model_id": "8b310edcfea34d7fa9c41f8e34edae4f",
       "version_major": 2,
       "version_minor": 0
      },
      "text/plain": [
       "HBox(children=(FloatProgress(value=0.0, description='CohesiveEnergyMP', max=5.0, style=ProgressStyle(descripti…"
      ]
     },
     "metadata": {},
     "output_type": "display_data"
    },
    {
     "name": "stdout",
     "output_type": "stream",
     "text": [
      "\n"
     ]
    },
    {
     "data": {
      "application/vnd.jupyter.widget-view+json": {
       "model_id": "cc1308a45c694c089c49bf4398c609ce",
       "version_major": 2,
       "version_minor": 0
      },
      "text/plain": [
       "HBox(children=(FloatProgress(value=0.0, description='Miedema', max=5.0, style=ProgressStyle(description_width=…"
      ]
     },
     "metadata": {},
     "output_type": "display_data"
    },
    {
     "name": "stdout",
     "output_type": "stream",
     "text": [
      "\n"
     ]
    },
    {
     "data": {
      "application/vnd.jupyter.widget-view+json": {
       "model_id": "a36048598ddd42dc97ea1d047bf28aff",
       "version_major": 2,
       "version_minor": 0
      },
      "text/plain": [
       "HBox(children=(FloatProgress(value=0.0, description='YangSolidSolution', max=5.0, style=ProgressStyle(descript…"
      ]
     },
     "metadata": {},
     "output_type": "display_data"
    },
    {
     "name": "stdout",
     "output_type": "stream",
     "text": [
      "\n"
     ]
    },
    {
     "data": {
      "application/vnd.jupyter.widget-view+json": {
       "model_id": "d15c290f34e948e1aeae46e3875d5e4e",
       "version_major": 2,
       "version_minor": 0
      },
      "text/plain": [
       "HBox(children=(FloatProgress(value=0.0, description='AtomicPackingEfficiency', max=5.0, style=ProgressStyle(de…"
      ]
     },
     "metadata": {},
     "output_type": "display_data"
    },
    {
     "name": "stdout",
     "output_type": "stream",
     "text": [
      "\n"
     ]
    },
    {
     "data": {
      "application/vnd.jupyter.widget-view+json": {
       "model_id": "6fbc4e62ad124b2490c543331b493f3a",
       "version_major": 2,
       "version_minor": 0
      },
      "text/plain": [
       "HBox(children=(FloatProgress(value=0.0, description='OxidationStates', max=5.0, style=ProgressStyle(descriptio…"
      ]
     },
     "metadata": {},
     "output_type": "display_data"
    },
    {
     "name": "stdout",
     "output_type": "stream",
     "text": [
      "\n"
     ]
    },
    {
     "data": {
      "application/vnd.jupyter.widget-view+json": {
       "model_id": "d6c29a960b35415883d19513f8806224",
       "version_major": 2,
       "version_minor": 0
      },
      "text/plain": [
       "HBox(children=(FloatProgress(value=0.0, description='ElectronegativityDiff', max=5.0, style=ProgressStyle(desc…"
      ]
     },
     "metadata": {},
     "output_type": "display_data"
    },
    {
     "name": "stdout",
     "output_type": "stream",
     "text": [
      "\n"
     ]
    },
    {
     "data": {
      "application/vnd.jupyter.widget-view+json": {
       "model_id": "33e0ca871d49464a8f9ca6c320771752",
       "version_major": 2,
       "version_minor": 0
      },
      "text/plain": [
       "HBox(children=(FloatProgress(value=0.0, description='ElectronAffinity', max=5.0, style=ProgressStyle(descripti…"
      ]
     },
     "metadata": {},
     "output_type": "display_data"
    },
    {
     "name": "stdout",
     "output_type": "stream",
     "text": [
      "\n"
     ]
    },
    {
     "data": {
      "application/vnd.jupyter.widget-view+json": {
       "model_id": "3fb79a5ea4eb4fa79147b286678f155d",
       "version_major": 2,
       "version_minor": 0
      },
      "text/plain": [
       "HBox(children=(FloatProgress(value=0.0, description='DensityFeatures', max=5.0, style=ProgressStyle(descriptio…"
      ]
     },
     "metadata": {},
     "output_type": "display_data"
    },
    {
     "name": "stdout",
     "output_type": "stream",
     "text": [
      "\n",
      "Kept 146 / 401 new features for 5 materials.\n"
     ]
    }
   ],
   "source": [
    "df = pd.DataFrame({\n",
    "    'formula': ['C12', 'Ti', 'TiO2', 'ZrO2', '(TiO2)0.4(GaO)0.6'],\n",
    "})\n",
    "\n",
    "feat, refs = mat_info_tools.featurize(df, formula_col='formula')\n"
   ]
  },
  {
   "cell_type": "code",
   "execution_count": 3,
   "metadata": {},
   "outputs": [
    {
     "data": {
      "text/html": [
       "<div>\n",
       "<style scoped>\n",
       "    .dataframe tbody tr th:only-of-type {\n",
       "        vertical-align: middle;\n",
       "    }\n",
       "\n",
       "    .dataframe tbody tr th {\n",
       "        vertical-align: top;\n",
       "    }\n",
       "\n",
       "    .dataframe thead th {\n",
       "        text-align: right;\n",
       "    }\n",
       "</style>\n",
       "<table border=\"1\" class=\"dataframe\">\n",
       "  <thead>\n",
       "    <tr style=\"text-align: right;\">\n",
       "      <th></th>\n",
       "      <th>MagpieData minimum Number</th>\n",
       "      <th>MagpieData maximum Number</th>\n",
       "      <th>MagpieData range Number</th>\n",
       "      <th>MagpieData mean Number</th>\n",
       "      <th>MagpieData avg_dev Number</th>\n",
       "      <th>MagpieData mode Number</th>\n",
       "      <th>MagpieData minimum MendeleevNumber</th>\n",
       "      <th>MagpieData maximum MendeleevNumber</th>\n",
       "      <th>MagpieData range MendeleevNumber</th>\n",
       "      <th>MagpieData mean MendeleevNumber</th>\n",
       "      <th>...</th>\n",
       "      <th>Ti</th>\n",
       "      <th>Ga</th>\n",
       "      <th>Zr</th>\n",
       "      <th>Yang omega</th>\n",
       "      <th>Yang delta</th>\n",
       "      <th>mean simul. packing efficiency</th>\n",
       "      <th>mean abs simul. packing efficiency</th>\n",
       "      <th>dist from 1 clusters |APE| &lt; 0.010</th>\n",
       "      <th>dist from 3 clusters |APE| &lt; 0.010</th>\n",
       "      <th>dist from 5 clusters |APE| &lt; 0.010</th>\n",
       "    </tr>\n",
       "    <tr>\n",
       "      <th>formula</th>\n",
       "      <th></th>\n",
       "      <th></th>\n",
       "      <th></th>\n",
       "      <th></th>\n",
       "      <th></th>\n",
       "      <th></th>\n",
       "      <th></th>\n",
       "      <th></th>\n",
       "      <th></th>\n",
       "      <th></th>\n",
       "      <th></th>\n",
       "      <th></th>\n",
       "      <th></th>\n",
       "      <th></th>\n",
       "      <th></th>\n",
       "      <th></th>\n",
       "      <th></th>\n",
       "      <th></th>\n",
       "      <th></th>\n",
       "      <th></th>\n",
       "      <th></th>\n",
       "    </tr>\n",
       "  </thead>\n",
       "  <tbody>\n",
       "    <tr>\n",
       "      <th>C12</th>\n",
       "      <td>6.0</td>\n",
       "      <td>6.0</td>\n",
       "      <td>0.0</td>\n",
       "      <td>6.000000</td>\n",
       "      <td>0.000000</td>\n",
       "      <td>6.0</td>\n",
       "      <td>77.0</td>\n",
       "      <td>77.0</td>\n",
       "      <td>0.0</td>\n",
       "      <td>77.000000</td>\n",
       "      <td>...</td>\n",
       "      <td>0.000000</td>\n",
       "      <td>0.00</td>\n",
       "      <td>0.000000</td>\n",
       "      <td>0.000000e+00</td>\n",
       "      <td>0.000000</td>\n",
       "      <td>0.023994</td>\n",
       "      <td>0.023994</td>\n",
       "      <td>1.000000</td>\n",
       "      <td>1.000000</td>\n",
       "      <td>1.000000</td>\n",
       "    </tr>\n",
       "    <tr>\n",
       "      <th>Ti</th>\n",
       "      <td>22.0</td>\n",
       "      <td>22.0</td>\n",
       "      <td>0.0</td>\n",
       "      <td>22.000000</td>\n",
       "      <td>0.000000</td>\n",
       "      <td>22.0</td>\n",
       "      <td>43.0</td>\n",
       "      <td>43.0</td>\n",
       "      <td>0.0</td>\n",
       "      <td>43.000000</td>\n",
       "      <td>...</td>\n",
       "      <td>1.000000</td>\n",
       "      <td>0.00</td>\n",
       "      <td>0.000000</td>\n",
       "      <td>0.000000e+00</td>\n",
       "      <td>0.000000</td>\n",
       "      <td>0.023994</td>\n",
       "      <td>0.023994</td>\n",
       "      <td>1.000000</td>\n",
       "      <td>1.000000</td>\n",
       "      <td>1.000000</td>\n",
       "    </tr>\n",
       "    <tr>\n",
       "      <th>TiO2</th>\n",
       "      <td>8.0</td>\n",
       "      <td>22.0</td>\n",
       "      <td>14.0</td>\n",
       "      <td>12.666667</td>\n",
       "      <td>6.222222</td>\n",
       "      <td>8.0</td>\n",
       "      <td>43.0</td>\n",
       "      <td>87.0</td>\n",
       "      <td>44.0</td>\n",
       "      <td>72.333333</td>\n",
       "      <td>...</td>\n",
       "      <td>0.333333</td>\n",
       "      <td>0.00</td>\n",
       "      <td>0.000000</td>\n",
       "      <td>3.617244e+06</td>\n",
       "      <td>0.408551</td>\n",
       "      <td>-0.004494</td>\n",
       "      <td>0.006738</td>\n",
       "      <td>0.000000</td>\n",
       "      <td>0.043041</td>\n",
       "      <td>0.097658</td>\n",
       "    </tr>\n",
       "    <tr>\n",
       "      <th>ZrO2</th>\n",
       "      <td>8.0</td>\n",
       "      <td>40.0</td>\n",
       "      <td>32.0</td>\n",
       "      <td>18.666667</td>\n",
       "      <td>14.222222</td>\n",
       "      <td>8.0</td>\n",
       "      <td>44.0</td>\n",
       "      <td>87.0</td>\n",
       "      <td>43.0</td>\n",
       "      <td>72.666667</td>\n",
       "      <td>...</td>\n",
       "      <td>0.000000</td>\n",
       "      <td>0.00</td>\n",
       "      <td>0.333333</td>\n",
       "      <td>3.947111e+06</td>\n",
       "      <td>0.464811</td>\n",
       "      <td>-0.038681</td>\n",
       "      <td>0.038681</td>\n",
       "      <td>0.037712</td>\n",
       "      <td>0.150186</td>\n",
       "      <td>0.245179</td>\n",
       "    </tr>\n",
       "    <tr>\n",
       "      <th>(TiO2)0.4(GaO)0.6</th>\n",
       "      <td>8.0</td>\n",
       "      <td>31.0</td>\n",
       "      <td>23.0</td>\n",
       "      <td>16.083333</td>\n",
       "      <td>9.430556</td>\n",
       "      <td>8.0</td>\n",
       "      <td>43.0</td>\n",
       "      <td>87.0</td>\n",
       "      <td>44.0</td>\n",
       "      <td>76.416667</td>\n",
       "      <td>...</td>\n",
       "      <td>0.166667</td>\n",
       "      <td>0.25</td>\n",
       "      <td>0.000000</td>\n",
       "      <td>3.440169e+06</td>\n",
       "      <td>0.382822</td>\n",
       "      <td>-0.029453</td>\n",
       "      <td>0.031994</td>\n",
       "      <td>0.029161</td>\n",
       "      <td>0.040135</td>\n",
       "      <td>0.047651</td>\n",
       "    </tr>\n",
       "  </tbody>\n",
       "</table>\n",
       "<p>5 rows × 146 columns</p>\n",
       "</div>"
      ],
      "text/plain": [
       "                   MagpieData minimum Number  MagpieData maximum Number  \\\n",
       "formula                                                                   \n",
       "C12                                      6.0                        6.0   \n",
       "Ti                                      22.0                       22.0   \n",
       "TiO2                                     8.0                       22.0   \n",
       "ZrO2                                     8.0                       40.0   \n",
       "(TiO2)0.4(GaO)0.6                        8.0                       31.0   \n",
       "\n",
       "                   MagpieData range Number  MagpieData mean Number  \\\n",
       "formula                                                              \n",
       "C12                                    0.0                6.000000   \n",
       "Ti                                     0.0               22.000000   \n",
       "TiO2                                  14.0               12.666667   \n",
       "ZrO2                                  32.0               18.666667   \n",
       "(TiO2)0.4(GaO)0.6                     23.0               16.083333   \n",
       "\n",
       "                   MagpieData avg_dev Number  MagpieData mode Number  \\\n",
       "formula                                                                \n",
       "C12                                 0.000000                     6.0   \n",
       "Ti                                  0.000000                    22.0   \n",
       "TiO2                                6.222222                     8.0   \n",
       "ZrO2                               14.222222                     8.0   \n",
       "(TiO2)0.4(GaO)0.6                   9.430556                     8.0   \n",
       "\n",
       "                   MagpieData minimum MendeleevNumber  \\\n",
       "formula                                                 \n",
       "C12                                              77.0   \n",
       "Ti                                               43.0   \n",
       "TiO2                                             43.0   \n",
       "ZrO2                                             44.0   \n",
       "(TiO2)0.4(GaO)0.6                                43.0   \n",
       "\n",
       "                   MagpieData maximum MendeleevNumber  \\\n",
       "formula                                                 \n",
       "C12                                              77.0   \n",
       "Ti                                               43.0   \n",
       "TiO2                                             87.0   \n",
       "ZrO2                                             87.0   \n",
       "(TiO2)0.4(GaO)0.6                                87.0   \n",
       "\n",
       "                   MagpieData range MendeleevNumber  \\\n",
       "formula                                               \n",
       "C12                                             0.0   \n",
       "Ti                                              0.0   \n",
       "TiO2                                           44.0   \n",
       "ZrO2                                           43.0   \n",
       "(TiO2)0.4(GaO)0.6                              44.0   \n",
       "\n",
       "                   MagpieData mean MendeleevNumber  ...        Ti    Ga  \\\n",
       "formula                                             ...                   \n",
       "C12                                      77.000000  ...  0.000000  0.00   \n",
       "Ti                                       43.000000  ...  1.000000  0.00   \n",
       "TiO2                                     72.333333  ...  0.333333  0.00   \n",
       "ZrO2                                     72.666667  ...  0.000000  0.00   \n",
       "(TiO2)0.4(GaO)0.6                        76.416667  ...  0.166667  0.25   \n",
       "\n",
       "                         Zr    Yang omega  Yang delta  \\\n",
       "formula                                                 \n",
       "C12                0.000000  0.000000e+00    0.000000   \n",
       "Ti                 0.000000  0.000000e+00    0.000000   \n",
       "TiO2               0.000000  3.617244e+06    0.408551   \n",
       "ZrO2               0.333333  3.947111e+06    0.464811   \n",
       "(TiO2)0.4(GaO)0.6  0.000000  3.440169e+06    0.382822   \n",
       "\n",
       "                   mean simul. packing efficiency  \\\n",
       "formula                                             \n",
       "C12                                      0.023994   \n",
       "Ti                                       0.023994   \n",
       "TiO2                                    -0.004494   \n",
       "ZrO2                                    -0.038681   \n",
       "(TiO2)0.4(GaO)0.6                       -0.029453   \n",
       "\n",
       "                   mean abs simul. packing efficiency  \\\n",
       "formula                                                 \n",
       "C12                                          0.023994   \n",
       "Ti                                           0.023994   \n",
       "TiO2                                         0.006738   \n",
       "ZrO2                                         0.038681   \n",
       "(TiO2)0.4(GaO)0.6                            0.031994   \n",
       "\n",
       "                   dist from 1 clusters |APE| < 0.010  \\\n",
       "formula                                                 \n",
       "C12                                          1.000000   \n",
       "Ti                                           1.000000   \n",
       "TiO2                                         0.000000   \n",
       "ZrO2                                         0.037712   \n",
       "(TiO2)0.4(GaO)0.6                            0.029161   \n",
       "\n",
       "                   dist from 3 clusters |APE| < 0.010  \\\n",
       "formula                                                 \n",
       "C12                                          1.000000   \n",
       "Ti                                           1.000000   \n",
       "TiO2                                         0.043041   \n",
       "ZrO2                                         0.150186   \n",
       "(TiO2)0.4(GaO)0.6                            0.040135   \n",
       "\n",
       "                   dist from 5 clusters |APE| < 0.010  \n",
       "formula                                                \n",
       "C12                                          1.000000  \n",
       "Ti                                           1.000000  \n",
       "TiO2                                         0.097658  \n",
       "ZrO2                                         0.245179  \n",
       "(TiO2)0.4(GaO)0.6                            0.047651  \n",
       "\n",
       "[5 rows x 146 columns]"
      ]
     },
     "execution_count": 3,
     "metadata": {},
     "output_type": "execute_result"
    }
   ],
   "source": [
    "feat"
   ]
  },
  {
   "cell_type": "code",
   "execution_count": 4,
   "metadata": {},
   "outputs": [
    {
     "name": "stdout",
     "output_type": "stream",
     "text": [
      "['@article{ward_agrawal_choudary_wolverton_2016, title={A general-purpose machine learning framework for predicting properties of inorganic materials}, volume={2}, DOI={10.1038/npjcompumats.2017.28}, number={1}, journal={npj Computational Materials}, author={Ward, Logan and Agrawal, Ankit and Choudhary, Alok and Wolverton, Christopher}, year={2016}}', '@article{meredig_agrawal_kirklin_saal_doak_thompson_zhang_choudhary_wolverton_2014, title={Combinatorial screening for new materials in unconstrained composition space with machine learning}, volume={89}, DOI={10.1103/PhysRevB.89.094104}, number={1}, journal={Physical Review B}, author={B. Meredig, A. Agrawal, S. Kirklin, J. E. Saal, J. W. Doak, A. Thompson, K. Zhang, A. Choudhary, and C. Wolverton}, year={2014}}', '@article{Butler1978, author = {Butler, M A and Ginley, D S}, doi = {10.1149/1.2131419}, isbn = {0013-4651}, issn = {00134651}, journal = {Journal of The Electrochemical Society}, month = {feb}, number = {2}, pages = {228--232}, title = {{Prediction of Flatband Potentials at Semiconductor-Electrolyte Interfaces from Atomic Electronegativities}}, url = {http://jes.ecsdl.org/content/125/2/228}, volume = {125}, year = {1978} } ', '@article{ward_agrawal_choudary_wolverton_2016, title={A general-purpose machine learning framework for predicting properties of inorganic materials}, volume={2}, DOI={10.1038/npjcompumats.2017.28}, number={1}, journal={npj Computational Materials}, author={Ward, Logan and Agrawal, Ankit and Choudhary, Alok and Wolverton, Christopher}, year={2016}}', '@article{ward_agrawal_choudary_wolverton_2016, title={A general-purpose machine learning framework for predicting properties of inorganic materials}, volume={2}, DOI={10.1038/npjcompumats.2017.28}, number={1}, journal={npj Computational Materials}, author={Ward, Logan and Agrawal, Ankit and Choudhary, Alok and Wolverton, Christopher}, year={2016}}', '@article{PhysRevA.55.191,title = {Local-density-functional calculations of the energy of atoms},author = {Kotochigova, Svetlana and Levine, Zachary H. and Shirley, Eric L. and Stiles, M. D. and Clark, Charles W.},journal = {Phys. Rev. A}, volume = {55}, issue = {1}, pages = {191--199},year = {1997}, month = {Jan}, publisher = {American Physical Society},doi = {10.1103/PhysRevA.55.191}, url = {https://link.aps.org/doi/10.1103/PhysRevA.55.191}}', '@article{deml_ohayre_wolverton_stevanovic_2016, title={Predicting density functional theory total energies and enthalpies of formation of metal-nonmetal compounds by linear regression}, volume={47}, DOI={10.1002/chin.201644254}, number={44}, journal={ChemInform}, author={Deml, Ann M. and Ohayre, Ryan and Wolverton, Chris and Stevanovic, Vladan}, year={2016}}', '@misc{, title = {{Knowledgedoor Cohesive energy handbook}}, url = {http://www.knowledgedoor.com/2/elements{\\\\_}handbook/cohesive{\\\\_}energy.html}}', '@article{doi:10.1063/1.4812323, author = {Jain,Anubhav and Ong,Shyue Ping  and Hautier,Geoffroy and Chen,Wei and Richards, William Davidson  and Dacek,Stephen and Cholia,Shreyas and Gunter,Dan  and Skinner,David and Ceder,Gerbrand and Persson,Kristin A. }, title = {Commentary: The Materials Project: A materials genome approach to accelerating materials innovation}, journal = {APL Materials}, volume = {1}, number = {1}, pages = {011002}, year = {2013}, doi = {10.1063/1.4812323}, URL = {https://doi.org/10.1063/1.4812323}, eprint = {https://doi.org/10.1063/1.4812323}}', '@article{miedema_1988, title={Cohesion in metals},author={De Boer, Frank R and Mattens, WCM and Boom, R and Miedema, AR and Niessen, AK},year={1988}}', '@article{Yang2012,author = {Yang, X. and Zhang, Y.},doi = {10.1016/j.matchemphys.2011.11.021},journal = {Materials Chemistry and Physics},number = {2-3},pages = {233--238},title = {{Prediction of high-entropy stabilized solid-solution in multi-component alloys}},url = {http://dx.doi.org/10.1016/j.matchemphys.2011.11.021},volume = {132},year = {2012}}', '@article{Laws2015,author = {Laws, K. J. and Miracle, D. B. and Ferry, M.},doi = {10.1038/ncomms9123},journal = {Nature Communications},pages = {8123},title = {{A predictive structural model for bulk metallic glasses}},url = {http://www.nature.com/doifinder/10.1038/ncomms9123},volume = {6},year = {2015}', '@article{deml_ohayre_wolverton_stevanovic_2016, title={Predicting density functional theory total energies and enthalpies of formation of metal-nonmetal compounds by linear regression}, volume={47}, DOI={10.1002/chin.201644254}, number={44}, journal={ChemInform}, author={Deml, Ann M. and Ohayre, Ryan and Wolverton, Chris and Stevanovic, Vladan}, year={2016}}', '@article{deml_ohayre_wolverton_stevanovic_2016, title={Predicting density functional theory total energies and enthalpies of formation of metal-nonmetal compounds by linear regression}, volume={47}, DOI={10.1002/chin.201644254}, number={44}, journal={ChemInform}, author={Deml, Ann M. and Ohayre, Ryan and Wolverton, Chris and Stevanovic, Vladan}, year={2016}}', '@article{deml_ohayre_wolverton_stevanovic_2016, title={Predicting density functional theory total energies and enthalpies of formation of metal-nonmetal compounds by linear regression}, volume={47}, DOI={10.1002/chin.201644254}, number={44}, journal={ChemInform}, author={Deml, Ann M. and Ohayre, Ryan and Wolverton, Chris and Stevanovic, Vladan}, year={2016}}']\n"
     ]
    }
   ],
   "source": [
    "print(refs)"
   ]
  },
  {
   "cell_type": "markdown",
   "metadata": {},
   "source": [
    "## Export featurized data"
   ]
  },
  {
   "cell_type": "code",
   "execution_count": 5,
   "metadata": {},
   "outputs": [],
   "source": [
    "mat_info_tools.export_df(\n",
    "    feat,\n",
    "    'example_featurized_data.csv',\n",
    "    data_dir='data'\n",
    ")"
   ]
  },
  {
   "cell_type": "markdown",
   "metadata": {},
   "source": [
    "## Plot data"
   ]
  },
  {
   "cell_type": "code",
   "execution_count": 9,
   "metadata": {},
   "outputs": [
    {
     "data": {
      "image/png": "[encoded data removed]",
      "text/plain": [
       "<Figure size 432x288 with 1 Axes>"
      ]
     },
     "metadata": {
      "needs_background": "light"
     },
     "output_type": "display_data"
    }
   ],
   "source": [
    "xcol, ycol = 'Yang delta', 'Yang omega'\n",
    "\n",
    "plt.scatter(feat[xcol], feat[ycol])\n",
    "                             \n",
    "mat_info_tools.plot_setup(\n",
    "    xlabel=xcol, ylabel=ycol,\n",
    "    title='Example plot',\n",
    "    legend=False,\n",
    ")\n",
    "\n",
    "plt.show()"
   ]
  },
  {
   "cell_type": "markdown",
   "metadata": {},
   "source": [
    "## Error quantification"
   ]
  },
  {
   "cell_type": "code",
   "execution_count": 3,
   "metadata": {},
   "outputs": [
    {
     "data": {
      "text/plain": [
       "3.769"
      ]
     },
     "execution_count": 3,
     "metadata": {},
     "output_type": "execute_result"
    }
   ],
   "source": [
    "mat_info_tools.get_rmse([4.5, 5, 2, 4, 2.4])"
   ]
  },
  {
   "cell_type": "code",
   "execution_count": null,
   "metadata": {},
   "outputs": [],
   "source": []
  },
  {
   "cell_type": "code",
   "execution_count": null,
   "metadata": {},
   "outputs": [],
   "source": []
  }
 ],
 "metadata": {
  "kernelspec": {
   "display_name": "Python 3",
   "language": "python",
   "name": "python3"
  },
  "language_info": {
   "codemirror_mode": {
    "name": "ipython",
    "version": 3
   },
   "file_extension": ".py",
   "mimetype": "text/x-python",
   "name": "python",
   "nbconvert_exporter": "python",
   "pygments_lexer": "ipython3",
   "version": "3.7.7"
  }
 },
 "nbformat": 4,
 "nbformat_minor": 4
}
